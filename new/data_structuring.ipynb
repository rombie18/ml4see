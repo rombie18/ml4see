{
 "cells": [
  {
   "cell_type": "code",
   "execution_count": null,
   "id": "77b3b9ec",
   "metadata": {},
   "outputs": [],
   "source": [
    "import dask.dataframe as dd\n",
    "import dask.bag as db\n",
    "from dask.distributed import Client\n",
    "import os"
   ]
  },
  {
   "cell_type": "code",
   "execution_count": null,
   "id": "e643666e",
   "metadata": {},
   "outputs": [],
   "source": [
    "DATA_RAW_DIRECTORY = \"/home/r0835817/2023-WoutRombouts-NoCsBack/ml4see/raw\"\n",
    "DATA_STRUCTURED_DIRECTORY = \"/home/r0835817/2023-WoutRombouts-NoCsBack/ml4see/structured\""
   ]
  },
  {
   "cell_type": "code",
   "execution_count": null,
   "id": "72fc4bee",
   "metadata": {},
   "outputs": [],
   "source": [
    "client = Client()\n",
    "client"
   ]
  },
  {
   "cell_type": "code",
   "execution_count": null,
   "id": "82acc6be",
   "metadata": {},
   "outputs": [],
   "source": [
    "folders = os.listdir(DATA_RAW_DIRECTORY)"
   ]
  },
  {
   "cell_type": "code",
   "execution_count": null,
   "id": "4d9fca91",
   "metadata": {},
   "outputs": [],
   "source": [
    "# get run information from logbook\n",
    "logbook_data = pd.read_excel(\"logbook/mcb2022_logbook.xlsx\", index_col=0).loc[\n",
    "    args.run_number\n",
    "]"
   ]
  },
  {
   "cell_type": "code",
   "execution_count": null,
   "id": "f33e9f7e",
   "metadata": {},
   "outputs": [],
   "source": [
    "pretrig_samples = logbook_data[\"sdr_info_len_pretrig\"]\n",
    "posttrig_samples = logbook_data[\"sdr_info_len_posttrig\"]"
   ]
  },
  {
   "cell_type": "code",
   "execution_count": null,
   "id": "34b7ff85",
   "metadata": {},
   "outputs": [],
   "source": [
    "run_folder_glasgow = find_run_folder(glasgow_data_folders, args.run_number)\n",
    "glasgow_txt_log_path = os.path.join(run_folder_glasgow, \"run_log.txt\")\n",
    "glasgow_csv_log_path = os.path.join(run_folder_glasgow, \"hit_log.csv\")"
   ]
  },
  {
   "cell_type": "code",
   "execution_count": null,
   "id": "7cc8ed39",
   "metadata": {},
   "outputs": [],
   "source": []
  },
  {
   "cell_type": "code",
   "execution_count": null,
   "id": "33114314",
   "metadata": {},
   "outputs": [],
   "source": []
  },
  {
   "cell_type": "code",
   "execution_count": null,
   "id": "f14a10f4",
   "metadata": {},
   "outputs": [],
   "source": [
    "def untar_file(file_name):\n",
    "    import tarfile\n",
    "    with tarfile.open(file_name, 'r') as tar:\n",
    "        tar.extractall(path=DATA_RAW_DIRECTORY)\n",
    "\n",
    "bag = db.from_sequence(tar_files)\n",
    "tasks = bag.map(untar_file)"
   ]
  },
  {
   "cell_type": "code",
   "execution_count": null,
   "id": "7797bdba",
   "metadata": {},
   "outputs": [],
   "source": [
    "results = tasks.compute()"
   ]
  },
  {
   "cell_type": "code",
   "execution_count": null,
   "id": "05f0b483",
   "metadata": {},
   "outputs": [],
   "source": [
    "client.close()"
   ]
  }
 ],
 "metadata": {
  "kernelspec": {
   "display_name": "ml4see",
   "language": "python",
   "name": "ml4see"
  },
  "language_info": {
   "codemirror_mode": {
    "name": "ipython",
    "version": 3
   },
   "file_extension": ".py",
   "mimetype": "text/x-python",
   "name": "python",
   "nbconvert_exporter": "python",
   "pygments_lexer": "ipython3",
   "version": "3.11.4"
  }
 },
 "nbformat": 4,
 "nbformat_minor": 5
}

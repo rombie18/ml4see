{
 "cells": [
  {
   "cell_type": "code",
   "execution_count": null,
   "id": "77b3b9ec",
   "metadata": {},
   "outputs": [],
   "source": [
    "import dask.dataframe as dd\n",
    "import dask.bag as db\n",
    "from dask.distributed import Client\n",
    "import os\n",
    "import logging\n",
    "import tarfile"
   ]
  },
  {
   "cell_type": "code",
   "execution_count": null,
   "id": "e643666e",
   "metadata": {},
   "outputs": [],
   "source": [
    "DATA_DOWNLOAD_DIRECTORY = \"/home/r0835817/2023-WoutRombouts-NoCsBack/ml4see/download\"\n",
    "DATA_RAW_DIRECTORY = \"/home/r0835817/2023-WoutRombouts-NoCsBack/ml4see/raw\""
   ]
  },
  {
   "cell_type": "code",
   "execution_count": null,
   "id": "69a7054b",
   "metadata": {},
   "outputs": [],
   "source": [
    "logging.basicConfig(filename='data_retrieval_extract.log', filemode=\"w\", level=logging.INFO, format='%(asctime)s.%(msecs)03d %(levelname)s %(module)s - %(funcName)s: %(message)s')"
   ]
  },
  {
   "cell_type": "code",
   "execution_count": null,
   "id": "72fc4bee",
   "metadata": {},
   "outputs": [],
   "source": [
    "client = Client()\n",
    "client"
   ]
  },
  {
   "cell_type": "code",
   "execution_count": null,
   "id": "172739ec",
   "metadata": {},
   "outputs": [],
   "source": [
    "if not os.path.exists(DATA_DOWNLOAD_DIRECTORY):\n",
    "    logging.warning(\"The data download directory does not exist at {}.\".format(DATA_DOWNLOAD_DIRECTORY))\n",
    "    \n",
    "if not os.path.exists(DATA_RAW_DIRECTORY):\n",
    "    logging.warning(\"The data raw directory does not exist at {}.\".format(DATA_RAW_DIRECTORY))"
   ]
  },
  {
   "cell_type": "code",
   "execution_count": null,
   "id": "82acc6be",
   "metadata": {},
   "outputs": [],
   "source": [
    "tar_files = []\n",
    "for filename in os.listdir(DATA_DOWNLOAD_DIRECTORY):\n",
    "    if filename.endswith(\".tar\"):\n",
    "        tar_files.append(os.path.join(DATA_DOWNLOAD_DIRECTORY, filename))"
   ]
  },
  {
   "cell_type": "code",
   "execution_count": null,
   "id": "f14a10f4",
   "metadata": {},
   "outputs": [],
   "source": [
    "def untar_file(file_name):\n",
    "    with tarfile.open(file_name, 'r') as tar:\n",
    "        tar.extractall(path=DATA_RAW_DIRECTORY)\n",
    "\n",
    "bag = db.from_sequence(tar_files)\n",
    "tasks = bag.map(untar_file)"
   ]
  },
  {
   "cell_type": "code",
   "execution_count": null,
   "id": "3f32b8a2",
   "metadata": {},
   "outputs": [],
   "source": [
    "#tasks.visualize()"
   ]
  },
  {
   "cell_type": "code",
   "execution_count": null,
   "id": "7797bdba",
   "metadata": {},
   "outputs": [],
   "source": [
    "results = tasks.compute()"
   ]
  },
  {
   "cell_type": "code",
   "execution_count": null,
   "id": "05f0b483",
   "metadata": {},
   "outputs": [],
   "source": [
    "client.close()"
   ]
  }
 ],
 "metadata": {
  "kernelspec": {
   "display_name": "ml4see",
   "language": "python",
   "name": "ml4see"
  },
  "language_info": {
   "codemirror_mode": {
    "name": "ipython",
    "version": 3
   },
   "file_extension": ".py",
   "mimetype": "text/x-python",
   "name": "python",
   "nbconvert_exporter": "python",
   "pygments_lexer": "ipython3",
   "version": "3.11.4"
  }
 },
 "nbformat": 4,
 "nbformat_minor": 5
}
